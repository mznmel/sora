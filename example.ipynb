{
 "cells": [
  {
   "cell_type": "code",
   "execution_count": 1,
   "metadata": {},
   "outputs": [],
   "source": [
    "%load_ext autoreload\n",
    "%autoreload 2\n",
    "from sora import sora"
   ]
  },
  {
   "cell_type": "code",
   "execution_count": 56,
   "metadata": {},
   "outputs": [
    {
     "data": {
      "text/html": [
       "\n",
       "        <div style=\"\n",
       "            width: 33%;\n",
       "            padding: 10px\">\n",
       "            <img style=\"width: 100%;\" src=\"data:image/jpeg;base64,/9j/4AAQSkZJRgABAQAAAQABAAD/2wBDAAgGBgcGBQgHBwcJCQgKDBQNDAsLDBkSEw8UHRofHh0aHBwgJC4nICIsIxwcKDcpLDAxNDQ0Hyc5PTgyPC4zNDL/2wBDAQkJCQwLDBgNDRgyIRwhMjIyMjIyMjIyMjIyMjIyMjIyMjIyMjIyMjIyMjIyMjIyMjIyMjIyMjIyMjIyMjIyMjL/wAARCAAgACADASIAAhEBAxEB/8QAHwAAAQUBAQEBAQEAAAAAAAAAAAECAwQFBgcICQoL/8QAtRAAAgEDAwIEAwUFBAQAAAF9AQIDAAQRBRIhMUEGE1FhByJxFDKBkaEII0KxwRVS0fAkM2JyggkKFhcYGRolJicoKSo0NTY3ODk6Q0RFRkdISUpTVFVWV1hZWmNkZWZnaGlqc3R1dnd4eXqDhIWGh4iJipKTlJWWl5iZmqKjpKWmp6ipqrKztLW2t7i5usLDxMXGx8jJytLT1NXW19jZ2uHi4+Tl5ufo6erx8vP09fb3+Pn6/8QAHwEAAwEBAQEBAQEBAQAAAAAAAAECAwQFBgcICQoL/8QAtREAAgECBAQDBAcFBAQAAQJ3AAECAxEEBSExBhJBUQdhcRMiMoEIFEKRobHBCSMzUvAVYnLRChYkNOEl8RcYGRomJygpKjU2Nzg5OkNERUZHSElKU1RVVldYWVpjZGVmZ2hpanN0dXZ3eHl6goOEhYaHiImKkpOUlZaXmJmaoqOkpaanqKmqsrO0tba3uLm6wsPExcbHyMnK0tPU1dbX2Nna4uPk5ebn6Onq8vP09fb3+Pn6/9oADAMBAAIRAxEAPwDzOWzs4bVE0+4t5kYBjHLFmQN6E+lZv9kTNEZFCqQfm9K2oLO7bb/ocjbjj7vSrUtvLBZSbreRRuXPHpmseflW5OtSWit6GJZQyLBNG3yhs8euBTZ9sWnnJG7kYq7CZ/tiLEm4nKgY9QaiutOuFjZHhkGW3glfwp3Te4NOKsz1u205INqZkwOh3ZpusaZHfaY0AkdS7qm4DOAW61WXUJkVUVgc543YxVpbtgMF855ODwDXkvmvc9KDh0MKDw7/AGTrTPbyC5ESrIvmfKWBBU49xW9corKMhGAOOagNw3nMytlSOWY81UuWAy2dz4/vdqbbb1BtH//Z\"></img>\n",
       "        </div>\n",
       "    "
      ],
      "text/plain": [
       "<IPython.core.display.HTML object>"
      ]
     },
     "metadata": {},
     "output_type": "display_data"
    }
   ],
   "source": [
    "sora(\"./test_images/959.jpg\")"
   ]
  },
  {
   "cell_type": "code",
   "execution_count": 57,
   "metadata": {
    "scrolled": false
   },
   "outputs": [
    {
     "data": {
      "text/html": [
       "\n",
       "    <div style=\"\n",
       "        display: flex;\n",
       "        justify-content: flex-start;\n",
       "        align-items: center;\n",
       "        align-content: center;\n",
       "        flex-wrap: wrap\">\n",
       "        \n",
       "        <div style=\"\n",
       "            width: 20%;\n",
       "            padding: 10px\">\n",
       "            <img style=\"width: 100%;\" src=\"data:image/jpeg;base64,/9j/4AAQSkZJRgABAQAAAQABAAD/2wBDAAgGBgcGBQgHBwcJCQgKDBQNDAsLDBkSEw8UHRofHh0aHBwgJC4nICIsIxwcKDcpLDAxNDQ0Hyc5PTgyPC4zNDL/2wBDAQkJCQwLDBgNDRgyIRwhMjIyMjIyMjIyMjIyMjIyMjIyMjIyMjIyMjIyMjIyMjIyMjIyMjIyMjIyMjIyMjIyMjL/wAARCAAgACADASIAAhEBAxEB/8QAHwAAAQUBAQEBAQEAAAAAAAAAAAECAwQFBgcICQoL/8QAtRAAAgEDAwIEAwUFBAQAAAF9AQIDAAQRBRIhMUEGE1FhByJxFDKBkaEII0KxwRVS0fAkM2JyggkKFhcYGRolJicoKSo0NTY3ODk6Q0RFRkdISUpTVFVWV1hZWmNkZWZnaGlqc3R1dnd4eXqDhIWGh4iJipKTlJWWl5iZmqKjpKWmp6ipqrKztLW2t7i5usLDxMXGx8jJytLT1NXW19jZ2uHi4+Tl5ufo6erx8vP09fb3+Pn6/8QAHwEAAwEBAQEBAQEBAQAAAAAAAAECAwQFBgcICQoL/8QAtREAAgECBAQDBAcFBAQAAQJ3AAECAxEEBSExBhJBUQdhcRMiMoEIFEKRobHBCSMzUvAVYnLRChYkNOEl8RcYGRomJygpKjU2Nzg5OkNERUZHSElKU1RVVldYWVpjZGVmZ2hpanN0dXZ3eHl6goOEhYaHiImKkpOUlZaXmJmaoqOkpaanqKmqsrO0tba3uLm6wsPExcbHyMnK0tPU1dbX2Nna4uPk5ebn6Onq8vP09fb3+Pn6/9oADAMBAAIRAxEAPwDibXX/ABBqNgkNhEJYlyj+VGC5xz9fyrCuNY1H7O1jO820NvdSSCCT371JpeparpkkYsrW5a3WQSfLGwLEe4rq9YSXxEj6hZ2G2NVDTJMoyjYO5cnn8KidVweq0OmnQjUVovU40apcCFIleTy425y/I+lXjrAvF8m4JlUIQjN9elP0DwwurXNxPIQtvCjM4B5zg4Az71Zj8L2tz4ZbUoJisobatuRkuwIztP8ASk68L2D6pUUW2e/6Nb266RDs00H5TydqjPHqa4Xxjod0fES2lpNHbrqx5jzuReilsjGDjBrsdO8V+H7DS4Vub6GNkQFhgkj8hVLWtV0LXrnS7m01GMGCRmDhSME4I6jvg1NS8laxFF8kro5jSPg19imP2zXnngYfPFADHux2J5Ncrc6XcaT4xTw5FLJ5NperKmRkeUwyDnqTnj8K9tk8Z6FHB55uWEZbaD5TZz9MZrivE+n6ZceMrfxNHfq7qixtCq9FCEBifqaTs9Wiozltfof/2Q==\"></img>\n",
       "        </div>\n",
       "    \n",
       "\n",
       "        <div style=\"\n",
       "            width: 20%;\n",
       "            padding: 10px\">\n",
       "            <img style=\"width: 100%;\" src=\"data:image/jpeg;base64,/9j/4AAQSkZJRgABAQAAAQABAAD/2wBDAAgGBgcGBQgHBwcJCQgKDBQNDAsLDBkSEw8UHRofHh0aHBwgJC4nICIsIxwcKDcpLDAxNDQ0Hyc5PTgyPC4zNDL/2wBDAQkJCQwLDBgNDRgyIRwhMjIyMjIyMjIyMjIyMjIyMjIyMjIyMjIyMjIyMjIyMjIyMjIyMjIyMjIyMjIyMjIyMjL/wAARCAAgACADASIAAhEBAxEB/8QAHwAAAQUBAQEBAQEAAAAAAAAAAAECAwQFBgcICQoL/8QAtRAAAgEDAwIEAwUFBAQAAAF9AQIDAAQRBRIhMUEGE1FhByJxFDKBkaEII0KxwRVS0fAkM2JyggkKFhcYGRolJicoKSo0NTY3ODk6Q0RFRkdISUpTVFVWV1hZWmNkZWZnaGlqc3R1dnd4eXqDhIWGh4iJipKTlJWWl5iZmqKjpKWmp6ipqrKztLW2t7i5usLDxMXGx8jJytLT1NXW19jZ2uHi4+Tl5ufo6erx8vP09fb3+Pn6/8QAHwEAAwEBAQEBAQEBAQAAAAAAAAECAwQFBgcICQoL/8QAtREAAgECBAQDBAcFBAQAAQJ3AAECAxEEBSExBhJBUQdhcRMiMoEIFEKRobHBCSMzUvAVYnLRChYkNOEl8RcYGRomJygpKjU2Nzg5OkNERUZHSElKU1RVVldYWVpjZGVmZ2hpanN0dXZ3eHl6goOEhYaHiImKkpOUlZaXmJmaoqOkpaanqKmqsrO0tba3uLm6wsPExcbHyMnK0tPU1dbX2Nna4uPk5ebn6Onq8vP09fb3+Pn6/9oADAMBAAIRAxEAPwC/b65++YmJfLyOCcEDFXF8Rxh2U2zDHcmuVt4jNMVkkIDAA9gaszRJGrAudqnkBs7q6eYDai1+URYkiDOWPPoKlGrRXKtsiZcHB3kDmubttsEwlcO+QR5bKeaZdXKMJCFdVZtwQA8fT2pOQFy0TSHe0jhR5lnyok84naw5wcUsum3/AJ21vD1yUBwVDMc+4NZ1o0cdilrsAVPuurENWil/eqCV1C53FcbmcE+3as7l2S6E8elSSAbtDvFzk8l+CKqX2nwWi7p9HljU9C7sAauDW7yOJFNzIWUfMxPLVTvdcuZ7d4ZJWZHGGBIP9KTC3kf/2Q==\"></img>\n",
       "        </div>\n",
       "    \n",
       "\n",
       "        <div style=\"\n",
       "            width: 20%;\n",
       "            padding: 10px\">\n",
       "            <img style=\"width: 100%;\" src=\"data:image/jpeg;base64,/9j/4AAQSkZJRgABAQAAAQABAAD/2wBDAAgGBgcGBQgHBwcJCQgKDBQNDAsLDBkSEw8UHRofHh0aHBwgJC4nICIsIxwcKDcpLDAxNDQ0Hyc5PTgyPC4zNDL/2wBDAQkJCQwLDBgNDRgyIRwhMjIyMjIyMjIyMjIyMjIyMjIyMjIyMjIyMjIyMjIyMjIyMjIyMjIyMjIyMjIyMjIyMjL/wAARCAAgACADASIAAhEBAxEB/8QAHwAAAQUBAQEBAQEAAAAAAAAAAAECAwQFBgcICQoL/8QAtRAAAgEDAwIEAwUFBAQAAAF9AQIDAAQRBRIhMUEGE1FhByJxFDKBkaEII0KxwRVS0fAkM2JyggkKFhcYGRolJicoKSo0NTY3ODk6Q0RFRkdISUpTVFVWV1hZWmNkZWZnaGlqc3R1dnd4eXqDhIWGh4iJipKTlJWWl5iZmqKjpKWmp6ipqrKztLW2t7i5usLDxMXGx8jJytLT1NXW19jZ2uHi4+Tl5ufo6erx8vP09fb3+Pn6/8QAHwEAAwEBAQEBAQEBAQAAAAAAAAECAwQFBgcICQoL/8QAtREAAgECBAQDBAcFBAQAAQJ3AAECAxEEBSExBhJBUQdhcRMiMoEIFEKRobHBCSMzUvAVYnLRChYkNOEl8RcYGRomJygpKjU2Nzg5OkNERUZHSElKU1RVVldYWVpjZGVmZ2hpanN0dXZ3eHl6goOEhYaHiImKkpOUlZaXmJmaoqOkpaanqKmqsrO0tba3uLm6wsPExcbHyMnK0tPU1dbX2Nna4uPk5ebn6Onq8vP09fb3+Pn6/9oADAMBAAIRAxEAPwDqNV+JGs6VNFDcafYQtIMqXfJ+uAfWtfSfiE+owy/8S2Pzo/8AlmsoyePQ1y1x4Wj1XXLm+1ZxPCVEdtCuQEXHU++axbfTBo2pSR3jDahHlyRnBkHYn061wLEv5joxVVcqlaR6VB41vnu4lm0J44Np8xgwJB7Yq5deLoGspgmnXRkKEAFRjJHrXCX2uRWOmtIZy02MRoByx96wm8bS2tzp0My/PcXQhljccgMOGB9jilHEzfRDqYatTi22tDu/tduF+YEeprifHLQCS1nieWMurec0Z58tSCTz6Zq+ZbpiiIwB/i461VuoZrm5QTRB4RBLG3ckuAP5CuSmrPVnNCfJLmROfBWmO4mm1G5nCDcqlguD68V5zo1umteOtKDzs0azNKDJxvC5OR+IFeg/b76Hw6oSzke9EIjx6ORjJ9h1rLfR4Le70SW0tJBJZMYnccZQqck/j/OtKcnG9/Oxp7aTTUnuf//Z\"></img>\n",
       "        </div>\n",
       "    \n",
       "\n",
       "        <div style=\"\n",
       "            width: 20%;\n",
       "            padding: 10px\">\n",
       "            <img style=\"width: 100%;\" src=\"data:image/jpeg;base64,/9j/4AAQSkZJRgABAQAAAQABAAD/2wBDAAgGBgcGBQgHBwcJCQgKDBQNDAsLDBkSEw8UHRofHh0aHBwgJC4nICIsIxwcKDcpLDAxNDQ0Hyc5PTgyPC4zNDL/2wBDAQkJCQwLDBgNDRgyIRwhMjIyMjIyMjIyMjIyMjIyMjIyMjIyMjIyMjIyMjIyMjIyMjIyMjIyMjIyMjIyMjIyMjL/wAARCAAgACADASIAAhEBAxEB/8QAHwAAAQUBAQEBAQEAAAAAAAAAAAECAwQFBgcICQoL/8QAtRAAAgEDAwIEAwUFBAQAAAF9AQIDAAQRBRIhMUEGE1FhByJxFDKBkaEII0KxwRVS0fAkM2JyggkKFhcYGRolJicoKSo0NTY3ODk6Q0RFRkdISUpTVFVWV1hZWmNkZWZnaGlqc3R1dnd4eXqDhIWGh4iJipKTlJWWl5iZmqKjpKWmp6ipqrKztLW2t7i5usLDxMXGx8jJytLT1NXW19jZ2uHi4+Tl5ufo6erx8vP09fb3+Pn6/8QAHwEAAwEBAQEBAQEBAQAAAAAAAAECAwQFBgcICQoL/8QAtREAAgECBAQDBAcFBAQAAQJ3AAECAxEEBSExBhJBUQdhcRMiMoEIFEKRobHBCSMzUvAVYnLRChYkNOEl8RcYGRomJygpKjU2Nzg5OkNERUZHSElKU1RVVldYWVpjZGVmZ2hpanN0dXZ3eHl6goOEhYaHiImKkpOUlZaXmJmaoqOkpaanqKmqsrO0tba3uLm6wsPExcbHyMnK0tPU1dbX2Nna4uPk5ebn6Onq8vP09fb3+Pn6/9oADAMBAAIRAxEAPwDDsrWOUMAozjrSvpNsj73jB3cYFXLKAo4c4UYyanKJ5+dwIboPeuGzR27mSdBWC8EaKWD4wCemaoazp0SM8lsyh4n8qYeh966Se8MMDXasDNGxOzPO0da5a81VLqW5VIG8uWYFmbjccdapX3J02JJtSKSFbeQzAd+2K09PvVc+VJuV9m8N2rAAYrE75JzyoUDcKPMZYmhTIAyysvBAPU1LdzSxo6qsixW9wWZVZiHYc1nXTRs8SoqsCD+8QfzHbmtqJ1u/DxjlHMSlwX/ixzXPxqyz4V1UP9/aOB7VtGram42JR//Z\"></img>\n",
       "        </div>\n",
       "    \n",
       "\n",
       "        <div style=\"\n",
       "            width: 20%;\n",
       "            padding: 10px\">\n",
       "            <img style=\"width: 100%;\" src=\"data:image/jpeg;base64,/9j/4AAQSkZJRgABAQAAAQABAAD/2wBDAAgGBgcGBQgHBwcJCQgKDBQNDAsLDBkSEw8UHRofHh0aHBwgJC4nICIsIxwcKDcpLDAxNDQ0Hyc5PTgyPC4zNDL/2wBDAQkJCQwLDBgNDRgyIRwhMjIyMjIyMjIyMjIyMjIyMjIyMjIyMjIyMjIyMjIyMjIyMjIyMjIyMjIyMjIyMjIyMjL/wAARCAAgACADASIAAhEBAxEB/8QAHwAAAQUBAQEBAQEAAAAAAAAAAAECAwQFBgcICQoL/8QAtRAAAgEDAwIEAwUFBAQAAAF9AQIDAAQRBRIhMUEGE1FhByJxFDKBkaEII0KxwRVS0fAkM2JyggkKFhcYGRolJicoKSo0NTY3ODk6Q0RFRkdISUpTVFVWV1hZWmNkZWZnaGlqc3R1dnd4eXqDhIWGh4iJipKTlJWWl5iZmqKjpKWmp6ipqrKztLW2t7i5usLDxMXGx8jJytLT1NXW19jZ2uHi4+Tl5ufo6erx8vP09fb3+Pn6/8QAHwEAAwEBAQEBAQEBAQAAAAAAAAECAwQFBgcICQoL/8QAtREAAgECBAQDBAcFBAQAAQJ3AAECAxEEBSExBhJBUQdhcRMiMoEIFEKRobHBCSMzUvAVYnLRChYkNOEl8RcYGRomJygpKjU2Nzg5OkNERUZHSElKU1RVVldYWVpjZGVmZ2hpanN0dXZ3eHl6goOEhYaHiImKkpOUlZaXmJmaoqOkpaanqKmqsrO0tba3uLm6wsPExcbHyMnK0tPU1dbX2Nna4uPk5ebn6Onq8vP09fb3+Pn6/9oADAMBAAIRAxEAPwD15YqeI6m2gKW9Bmq2o38Onac11M6JwAu48biOAa63M4FTJPLprR1wOn+KJrq/1f7RPGgljjaMRZPT09OM/jXoLMVeUhcrkbeevHSlzWHyHkfiBLnQLWKKHV753kBAUyfLjp/WuQutSvb7dHNezzxE5KNNxgH0zXbeMNKN9LDPHcTxMqlf3bcdfQ1xVxpmpR58m8ikI7TwDP5ipc4R0ZrGMraCWv2eydZpo5iJflAyCvHTpXc3HxIu9KtPtZtkktyywxxnAK8H5v5V5tNF4j3IoWyKg/LxgA+tbHheyv7nUZ4dY8h4ZcMqxuD8/wDhjtWbq072vqzTlkldo//Z\"></img>\n",
       "        </div>\n",
       "    \n",
       "\n",
       "        <div style=\"\n",
       "            width: 20%;\n",
       "            padding: 10px\">\n",
       "            <img style=\"width: 100%;\" src=\"data:image/jpeg;base64,/9j/4AAQSkZJRgABAQAAAQABAAD/2wBDAAgGBgcGBQgHBwcJCQgKDBQNDAsLDBkSEw8UHRofHh0aHBwgJC4nICIsIxwcKDcpLDAxNDQ0Hyc5PTgyPC4zNDL/2wBDAQkJCQwLDBgNDRgyIRwhMjIyMjIyMjIyMjIyMjIyMjIyMjIyMjIyMjIyMjIyMjIyMjIyMjIyMjIyMjIyMjIyMjL/wAARCAAgACADASIAAhEBAxEB/8QAHwAAAQUBAQEBAQEAAAAAAAAAAAECAwQFBgcICQoL/8QAtRAAAgEDAwIEAwUFBAQAAAF9AQIDAAQRBRIhMUEGE1FhByJxFDKBkaEII0KxwRVS0fAkM2JyggkKFhcYGRolJicoKSo0NTY3ODk6Q0RFRkdISUpTVFVWV1hZWmNkZWZnaGlqc3R1dnd4eXqDhIWGh4iJipKTlJWWl5iZmqKjpKWmp6ipqrKztLW2t7i5usLDxMXGx8jJytLT1NXW19jZ2uHi4+Tl5ufo6erx8vP09fb3+Pn6/8QAHwEAAwEBAQEBAQEBAQAAAAAAAAECAwQFBgcICQoL/8QAtREAAgECBAQDBAcFBAQAAQJ3AAECAxEEBSExBhJBUQdhcRMiMoEIFEKRobHBCSMzUvAVYnLRChYkNOEl8RcYGRomJygpKjU2Nzg5OkNERUZHSElKU1RVVldYWVpjZGVmZ2hpanN0dXZ3eHl6goOEhYaHiImKkpOUlZaXmJmaoqOkpaanqKmqsrO0tba3uLm6wsPExcbHyMnK0tPU1dbX2Nna4uPk5ebn6Onq8vP09fb3+Pn6/9oADAMBAAIRAxEAPwDyZMngDNS7WA3YOPXFXNJkit5RKzMJBxjAIxXX6cbC+gnhhhU+cAJBj8qAOQGmXP2FbzaDGTjGeR+FFvG87CKJC7t0VRzW7rNukMEdtaSM07uQ8Z42rgY6+vNR+HWFjey+dDJ9oKlU4+765oAxbCK0kuo1upXji/iIGa7HNjYQbdNb7QxBaNY8EnAyc1xAAL8dM1NFLLBKskTlHXoVODQBpX2rJqc/nXdsZHKgb1baRgfiDV3SZrCCFi9wYpwCyu8ecHBwMj3rDXnHaplUcg0Af//Z\"></img>\n",
       "        </div>\n",
       "    \n",
       "\n",
       "        <div style=\"\n",
       "            width: 20%;\n",
       "            padding: 10px\">\n",
       "            <img style=\"width: 100%;\" src=\"data:image/jpeg;base64,/9j/4AAQSkZJRgABAQAAAQABAAD/2wBDAAgGBgcGBQgHBwcJCQgKDBQNDAsLDBkSEw8UHRofHh0aHBwgJC4nICIsIxwcKDcpLDAxNDQ0Hyc5PTgyPC4zNDL/2wBDAQkJCQwLDBgNDRgyIRwhMjIyMjIyMjIyMjIyMjIyMjIyMjIyMjIyMjIyMjIyMjIyMjIyMjIyMjIyMjIyMjIyMjL/wAARCAAgACADASIAAhEBAxEB/8QAHwAAAQUBAQEBAQEAAAAAAAAAAAECAwQFBgcICQoL/8QAtRAAAgEDAwIEAwUFBAQAAAF9AQIDAAQRBRIhMUEGE1FhByJxFDKBkaEII0KxwRVS0fAkM2JyggkKFhcYGRolJicoKSo0NTY3ODk6Q0RFRkdISUpTVFVWV1hZWmNkZWZnaGlqc3R1dnd4eXqDhIWGh4iJipKTlJWWl5iZmqKjpKWmp6ipqrKztLW2t7i5usLDxMXGx8jJytLT1NXW19jZ2uHi4+Tl5ufo6erx8vP09fb3+Pn6/8QAHwEAAwEBAQEBAQEBAQAAAAAAAAECAwQFBgcICQoL/8QAtREAAgECBAQDBAcFBAQAAQJ3AAECAxEEBSExBhJBUQdhcRMiMoEIFEKRobHBCSMzUvAVYnLRChYkNOEl8RcYGRomJygpKjU2Nzg5OkNERUZHSElKU1RVVldYWVpjZGVmZ2hpanN0dXZ3eHl6goOEhYaHiImKkpOUlZaXmJmaoqOkpaanqKmqsrO0tba3uLm6wsPExcbHyMnK0tPU1dbX2Nna4uPk5ebn6Onq8vP09fb3+Pn6/9oADAMBAAIRAxEAPwDx3fgbT+ddxoU9xdaTEXG8qSoYnsK4uytvt10lv5iRFs/O54GOa9F0qKxaygTSI7x4AhMjTAE7s9eOgPpXPODmmluNsbMpRGPbjGK53VrBZIWubVSHU5dR3HrXYHYEKuMZ4we9VZdPUtuiYJkdOorlg5RZJ5qyATcV6L4U8c2djoi6Pe6bC7DKrOEGSpyfmPbHrXD/ANnzTT4jxtXlmJwBWvZnT7LIaS3JPUyIxJ+h7V2yqKDGzspzYzQ+b5Pk7W/1iyH9R0qtHPuYos6Esc7GIzj1qC1vo51CQPFgjgK3+IrO1WzkTa6XUwbOfvZH5Guf2jk/eEf/2Q==\"></img>\n",
       "        </div>\n",
       "    \n",
       "\n",
       "        <div style=\"\n",
       "            width: 20%;\n",
       "            padding: 10px\">\n",
       "            <img style=\"width: 100%;\" src=\"data:image/jpeg;base64,/9j/4AAQSkZJRgABAQAAAQABAAD/2wBDAAgGBgcGBQgHBwcJCQgKDBQNDAsLDBkSEw8UHRofHh0aHBwgJC4nICIsIxwcKDcpLDAxNDQ0Hyc5PTgyPC4zNDL/2wBDAQkJCQwLDBgNDRgyIRwhMjIyMjIyMjIyMjIyMjIyMjIyMjIyMjIyMjIyMjIyMjIyMjIyMjIyMjIyMjIyMjIyMjL/wAARCAAgACADASIAAhEBAxEB/8QAHwAAAQUBAQEBAQEAAAAAAAAAAAECAwQFBgcICQoL/8QAtRAAAgEDAwIEAwUFBAQAAAF9AQIDAAQRBRIhMUEGE1FhByJxFDKBkaEII0KxwRVS0fAkM2JyggkKFhcYGRolJicoKSo0NTY3ODk6Q0RFRkdISUpTVFVWV1hZWmNkZWZnaGlqc3R1dnd4eXqDhIWGh4iJipKTlJWWl5iZmqKjpKWmp6ipqrKztLW2t7i5usLDxMXGx8jJytLT1NXW19jZ2uHi4+Tl5ufo6erx8vP09fb3+Pn6/8QAHwEAAwEBAQEBAQEBAQAAAAAAAAECAwQFBgcICQoL/8QAtREAAgECBAQDBAcFBAQAAQJ3AAECAxEEBSExBhJBUQdhcRMiMoEIFEKRobHBCSMzUvAVYnLRChYkNOEl8RcYGRomJygpKjU2Nzg5OkNERUZHSElKU1RVVldYWVpjZGVmZ2hpanN0dXZ3eHl6goOEhYaHiImKkpOUlZaXmJmaoqOkpaanqKmqsrO0tba3uLm6wsPExcbHyMnK0tPU1dbX2Nna4uPk5ebn6Onq8vP09fb3+Pn6/9oADAMBAAIRAxEAPwDz/StNWeF7UOkbtINzAZ47Y+nJ/Ktm5s7W00h0TzZ2jlCM564Pcj61j6cr7IvsqFFBB+cdPc1duoJmDSb3uGOSQo4OPT3FeTOV5WZ6PslKBdn1rSb6a1gXS5JUix5iRW+7Len0rUn1K2uLaS1sQbZzGRsEWzZ9RXPyQiyEN2sbGJ180KWIYccgirWh61YXG22kn2XPmyBQy/eQnKjNVe690VuX4iSKcW8EUnkLGIRn2I963iLbmWK6hMhyI0k+UYPoRWNq11Zh/LbZufgIxGD+FZmsrcNbpLbiaBTgOmxdoX1xWSgpM1bcVoWvEWpX+n2c0Utja7NuFZJw2Pr3NcDpkct5rtr5xdfMkBDKMZ+lb92mgXWmyx2qtJdOvyMSS27I4wemfWr+o2Kwz2MxlMckVt5aLGATuGOvtjqa6YWhFpLVmM+acldn/9k=\"></img>\n",
       "        </div>\n",
       "    \n",
       "\n",
       "        <div style=\"\n",
       "            width: 20%;\n",
       "            padding: 10px\">\n",
       "            <img style=\"width: 100%;\" src=\"data:image/jpeg;base64,/9j/4AAQSkZJRgABAQAAAQABAAD/2wBDAAgGBgcGBQgHBwcJCQgKDBQNDAsLDBkSEw8UHRofHh0aHBwgJC4nICIsIxwcKDcpLDAxNDQ0Hyc5PTgyPC4zNDL/2wBDAQkJCQwLDBgNDRgyIRwhMjIyMjIyMjIyMjIyMjIyMjIyMjIyMjIyMjIyMjIyMjIyMjIyMjIyMjIyMjIyMjIyMjL/wAARCAAgACADASIAAhEBAxEB/8QAHwAAAQUBAQEBAQEAAAAAAAAAAAECAwQFBgcICQoL/8QAtRAAAgEDAwIEAwUFBAQAAAF9AQIDAAQRBRIhMUEGE1FhByJxFDKBkaEII0KxwRVS0fAkM2JyggkKFhcYGRolJicoKSo0NTY3ODk6Q0RFRkdISUpTVFVWV1hZWmNkZWZnaGlqc3R1dnd4eXqDhIWGh4iJipKTlJWWl5iZmqKjpKWmp6ipqrKztLW2t7i5usLDxMXGx8jJytLT1NXW19jZ2uHi4+Tl5ufo6erx8vP09fb3+Pn6/8QAHwEAAwEBAQEBAQEBAQAAAAAAAAECAwQFBgcICQoL/8QAtREAAgECBAQDBAcFBAQAAQJ3AAECAxEEBSExBhJBUQdhcRMiMoEIFEKRobHBCSMzUvAVYnLRChYkNOEl8RcYGRomJygpKjU2Nzg5OkNERUZHSElKU1RVVldYWVpjZGVmZ2hpanN0dXZ3eHl6goOEhYaHiImKkpOUlZaXmJmaoqOkpaanqKmqsrO0tba3uLm6wsPExcbHyMnK0tPU1dbX2Nna4uPk5ebn6Onq8vP09fb3+Pn6/9oADAMBAAIRAxEAPwD0sZycU9Qc8msfQdatfEsrppkwl2cuSMbfrXK3PxSgsdRntp9NuGjikMfmwuHzg9cHFehKvBOzZ50aMpK6R6OufWsUeJD/AMJf/YX2fj/nuG4z5e7bj+9/Ss/w146tfEPiGPTbe0mVDHvZ5SBuPoAK5W/12LSvinql9IsjwxSbTHEuTvMe3P4Dt71hLEpyUUbKhyxcpGz4MK2OheIZBKsH+jHE7JtCnDAfjk153ZabdLCrzQh5CSxVlbOD7+tb899A3hyOykubh5GmM8g3jCkEBQSPbJH1qkt+1uy7HmTHHzSBs/rXjtvlSR1KTglZknha1urTxLYSyRyRQC5Viy9ucVMunX0fiTxBcXzFbia+fcAhIwOhB96bHrdwcspCZ6HdzWnea7NNfxzRyIftESSPtbIVwNrA+/GfxpOUnFobnzH/2Q==\"></img>\n",
       "        </div>\n",
       "    \n",
       "\n",
       "        <div style=\"\n",
       "            width: 20%;\n",
       "            padding: 10px\">\n",
       "            <img style=\"width: 100%;\" src=\"data:image/jpeg;base64,/9j/4AAQSkZJRgABAQAAAQABAAD/2wBDAAgGBgcGBQgHBwcJCQgKDBQNDAsLDBkSEw8UHRofHh0aHBwgJC4nICIsIxwcKDcpLDAxNDQ0Hyc5PTgyPC4zNDL/2wBDAQkJCQwLDBgNDRgyIRwhMjIyMjIyMjIyMjIyMjIyMjIyMjIyMjIyMjIyMjIyMjIyMjIyMjIyMjIyMjIyMjIyMjL/wAARCAAgACADASIAAhEBAxEB/8QAHwAAAQUBAQEBAQEAAAAAAAAAAAECAwQFBgcICQoL/8QAtRAAAgEDAwIEAwUFBAQAAAF9AQIDAAQRBRIhMUEGE1FhByJxFDKBkaEII0KxwRVS0fAkM2JyggkKFhcYGRolJicoKSo0NTY3ODk6Q0RFRkdISUpTVFVWV1hZWmNkZWZnaGlqc3R1dnd4eXqDhIWGh4iJipKTlJWWl5iZmqKjpKWmp6ipqrKztLW2t7i5usLDxMXGx8jJytLT1NXW19jZ2uHi4+Tl5ufo6erx8vP09fb3+Pn6/8QAHwEAAwEBAQEBAQEBAQAAAAAAAAECAwQFBgcICQoL/8QAtREAAgECBAQDBAcFBAQAAQJ3AAECAxEEBSExBhJBUQdhcRMiMoEIFEKRobHBCSMzUvAVYnLRChYkNOEl8RcYGRomJygpKjU2Nzg5OkNERUZHSElKU1RVVldYWVpjZGVmZ2hpanN0dXZ3eHl6goOEhYaHiImKkpOUlZaXmJmaoqOkpaanqKmqsrO0tba3uLm6wsPExcbHyMnK0tPU1dbX2Nna4uPk5ebn6Onq8vP09fb3+Pn6/9oADAMBAAIRAxEAPwD17xf4gTw9ozXDEK0hKKzZwpwTnj6VwPhn4kyWA+z6n5tzAXYIwXMqDJI7/MPxzXqOq6bBqli9tOoKnkZGcGvB9V8Kvoms3ljK+yzMyywooyI1bIAye3HB+tZzuncuNnoe12HivQ9SCfZ9Tti7gfu2kCuCRnBB71tA8V8vaqGt3EMig4bCScEj6dz+PpXsnwx1DVbrR/JvYibREDW0xcN8p/gznJx7804yuEo2O3u4mntpI0IDMMDJI/lzXmWu+GvFusXkkF8tm9oRsF1G+GCDkEg9SDz07mvUs1m6ydQNjJHpsa/aWQ7ZHxtX6jv9KckmtSU7M+Zbi1k+3NHMXfbuVQ3XAztJ9Dkr09a9x+FlhLb+HpryYg/a5d0e3oUAwCP1/Kl8O/DqwtLYXGsxi8vXG5wx+ROc4A74rqdNvbed5LaCLy1hGFwAFYdPlx/nmlFa3HKV9D//2Q==\"></img>\n",
       "        </div>\n",
       "    \n",
       "\n",
       "        <div style=\"\n",
       "            width: 20%;\n",
       "            padding: 10px\">\n",
       "            <img style=\"width: 100%;\" src=\"data:image/jpeg;base64,/9j/4AAQSkZJRgABAQAAAQABAAD/2wBDAAgGBgcGBQgHBwcJCQgKDBQNDAsLDBkSEw8UHRofHh0aHBwgJC4nICIsIxwcKDcpLDAxNDQ0Hyc5PTgyPC4zNDL/2wBDAQkJCQwLDBgNDRgyIRwhMjIyMjIyMjIyMjIyMjIyMjIyMjIyMjIyMjIyMjIyMjIyMjIyMjIyMjIyMjIyMjIyMjL/wAARCAAgACADASIAAhEBAxEB/8QAHwAAAQUBAQEBAQEAAAAAAAAAAAECAwQFBgcICQoL/8QAtRAAAgEDAwIEAwUFBAQAAAF9AQIDAAQRBRIhMUEGE1FhByJxFDKBkaEII0KxwRVS0fAkM2JyggkKFhcYGRolJicoKSo0NTY3ODk6Q0RFRkdISUpTVFVWV1hZWmNkZWZnaGlqc3R1dnd4eXqDhIWGh4iJipKTlJWWl5iZmqKjpKWmp6ipqrKztLW2t7i5usLDxMXGx8jJytLT1NXW19jZ2uHi4+Tl5ufo6erx8vP09fb3+Pn6/8QAHwEAAwEBAQEBAQEBAQAAAAAAAAECAwQFBgcICQoL/8QAtREAAgECBAQDBAcFBAQAAQJ3AAECAxEEBSExBhJBUQdhcRMiMoEIFEKRobHBCSMzUvAVYnLRChYkNOEl8RcYGRomJygpKjU2Nzg5OkNERUZHSElKU1RVVldYWVpjZGVmZ2hpanN0dXZ3eHl6goOEhYaHiImKkpOUlZaXmJmaoqOkpaanqKmqsrO0tba3uLm6wsPExcbHyMnK0tPU1dbX2Nna4uPk5ebn6Onq8vP09fb3+Pn6/9oADAMBAAIRAxEAPwDu1ixUgj56UyXULZbWWaB1mZFJCg9Tg8V5p/wsTxKureXPp9nDACQFB3d+pOa9ieKgupw08NVqK6X5/wCR6kIzS+XXmsXxbl/tG3tp9MhRJGBd1kJ2p3wO5r1HTp7bVbGK8s38yCQZVsYqY4mM9mOthatH40fPt7cyXepTBZzlpOm7oM0y8n02C8S2s/tFzMy7GkyAC57Ada0rvwvrFhrRFt4e1qbTnXayvGqyO/1GQBnFWtJ+F3iy9XamlnTYzMsqyXkoypByMgcnr6V4tru7PdhjFRpezpa+qOMNuz3AmGCI12FMgNnkYx+Neq/Dvx6NK8LS2t3ZS3TwyZiEJUHBGcHJ45rQ0v4H2kM3n6nqk0sjEtJHAgRMn0zkiuzstE0XR0kisraMghVd2+djtGBkn0FEZcuxy16vtrprfX5n/9k=\"></img>\n",
       "        </div>\n",
       "    \n",
       "\n",
       "        <div style=\"\n",
       "            width: 20%;\n",
       "            padding: 10px\">\n",
       "            <img style=\"width: 100%;\" src=\"data:image/jpeg;base64,/9j/4AAQSkZJRgABAQAAAQABAAD/2wBDAAgGBgcGBQgHBwcJCQgKDBQNDAsLDBkSEw8UHRofHh0aHBwgJC4nICIsIxwcKDcpLDAxNDQ0Hyc5PTgyPC4zNDL/2wBDAQkJCQwLDBgNDRgyIRwhMjIyMjIyMjIyMjIyMjIyMjIyMjIyMjIyMjIyMjIyMjIyMjIyMjIyMjIyMjIyMjIyMjL/wAARCAAgACADASIAAhEBAxEB/8QAHwAAAQUBAQEBAQEAAAAAAAAAAAECAwQFBgcICQoL/8QAtRAAAgEDAwIEAwUFBAQAAAF9AQIDAAQRBRIhMUEGE1FhByJxFDKBkaEII0KxwRVS0fAkM2JyggkKFhcYGRolJicoKSo0NTY3ODk6Q0RFRkdISUpTVFVWV1hZWmNkZWZnaGlqc3R1dnd4eXqDhIWGh4iJipKTlJWWl5iZmqKjpKWmp6ipqrKztLW2t7i5usLDxMXGx8jJytLT1NXW19jZ2uHi4+Tl5ufo6erx8vP09fb3+Pn6/8QAHwEAAwEBAQEBAQEBAQAAAAAAAAECAwQFBgcICQoL/8QAtREAAgECBAQDBAcFBAQAAQJ3AAECAxEEBSExBhJBUQdhcRMiMoEIFEKRobHBCSMzUvAVYnLRChYkNOEl8RcYGRomJygpKjU2Nzg5OkNERUZHSElKU1RVVldYWVpjZGVmZ2hpanN0dXZ3eHl6goOEhYaHiImKkpOUlZaXmJmaoqOkpaanqKmqsrO0tba3uLm6wsPExcbHyMnK0tPU1dbX2Nna4uPk5ebn6Onq8vP09fb3+Pn6/9oADAMBAAIRAxEAPwDo9R1fTrC4gW6hmLO+5GD8FumcAEVLJeM5LWl1DwfnRnJI744HHT0rC1zVIoribTVUSqzHYoXmJx0Iz+NUDe2rJcyNC+4xLGmflKyDr/8ArrzJOcdUCVzu4ryOQR5IHmfcYfdf6GrFcNHrUtrDsLvNEyfKrj9Qfauh0XVk1AmNQ2UQF9x4B7Y9q6aNdy92W42rEFzpT3NwrtEk0sMi7ht2iQMeTn2Hb2rE1OwgsbW8tCgN15gmSUcFk9P/AK3rXbTvJHCzxqrMvOGOM1w3iC9kv9cgt7dGJkCbQG5z6fzorU4tJLe4loRaJZvqN1HZKjpBISZJCnyrxnqeh4rS1C7h0h7mCyjBmYiJmHb0x9SetdNeQedbbQAWCHahbAY446Vz2l+HLhr5Lm/lQeWQ/wBnRtxB7Z9KzeHamrbDu3uf/9k=\"></img>\n",
       "        </div>\n",
       "    \n",
       "\n",
       "        <div style=\"\n",
       "            width: 20%;\n",
       "            padding: 10px\">\n",
       "            <img style=\"width: 100%;\" src=\"data:image/jpeg;base64,/9j/4AAQSkZJRgABAQAAAQABAAD/2wBDAAgGBgcGBQgHBwcJCQgKDBQNDAsLDBkSEw8UHRofHh0aHBwgJC4nICIsIxwcKDcpLDAxNDQ0Hyc5PTgyPC4zNDL/2wBDAQkJCQwLDBgNDRgyIRwhMjIyMjIyMjIyMjIyMjIyMjIyMjIyMjIyMjIyMjIyMjIyMjIyMjIyMjIyMjIyMjIyMjL/wAARCAAgACADASIAAhEBAxEB/8QAHwAAAQUBAQEBAQEAAAAAAAAAAAECAwQFBgcICQoL/8QAtRAAAgEDAwIEAwUFBAQAAAF9AQIDAAQRBRIhMUEGE1FhByJxFDKBkaEII0KxwRVS0fAkM2JyggkKFhcYGRolJicoKSo0NTY3ODk6Q0RFRkdISUpTVFVWV1hZWmNkZWZnaGlqc3R1dnd4eXqDhIWGh4iJipKTlJWWl5iZmqKjpKWmp6ipqrKztLW2t7i5usLDxMXGx8jJytLT1NXW19jZ2uHi4+Tl5ufo6erx8vP09fb3+Pn6/8QAHwEAAwEBAQEBAQEBAQAAAAAAAAECAwQFBgcICQoL/8QAtREAAgECBAQDBAcFBAQAAQJ3AAECAxEEBSExBhJBUQdhcRMiMoEIFEKRobHBCSMzUvAVYnLRChYkNOEl8RcYGRomJygpKjU2Nzg5OkNERUZHSElKU1RVVldYWVpjZGVmZ2hpanN0dXZ3eHl6goOEhYaHiImKkpOUlZaXmJmaoqOkpaanqKmqsrO0tba3uLm6wsPExcbHyMnK0tPU1dbX2Nna4uPk5ebn6Onq8vP09fb3+Pn6/9oADAMBAAIRAxEAPwDzOWzs4bVE0+4t5kYBjHLFmQN6E+lZv9kTNEZFCqQfm9K2oLO7bb/ocjbjj7vSrUtvLBZSbreRRuXPHpmseflW5OtSWit6GJZQyLBNG3yhs8euBTZ9sWnnJG7kYq7CZ/tiLEm4nKgY9QaiutOuFjZHhkGW3glfwp3Te4NOKsz1u205INqZkwOh3ZpusaZHfaY0AkdS7qm4DOAW61WXUJkVUVgc543YxVpbtgMF855ODwDXkvmvc9KDh0MKDw7/AGTrTPbyC5ESrIvmfKWBBU49xW9corKMhGAOOagNw3nMytlSOWY81UuWAy2dz4/vdqbbb1BtH//Z\"></img>\n",
       "        </div>\n",
       "    \n",
       "    </div>\n",
       "    "
      ],
      "text/plain": [
       "<IPython.core.display.HTML object>"
      ]
     },
     "metadata": {},
     "output_type": "display_data"
    }
   ],
   "source": [
    "sora(\"./test_images/\", item_width=\"20%\")"
   ]
  }
 ],
 "metadata": {
  "kernelspec": {
   "display_name": "Python 3",
   "language": "python",
   "name": "python3"
  },
  "language_info": {
   "codemirror_mode": {
    "name": "ipython",
    "version": 3
   },
   "file_extension": ".py",
   "mimetype": "text/x-python",
   "name": "python",
   "nbconvert_exporter": "python",
   "pygments_lexer": "ipython3",
   "version": "3.6.7"
  }
 },
 "nbformat": 4,
 "nbformat_minor": 2
}
