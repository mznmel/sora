{
 "cells": [
  {
   "cell_type": "code",
   "execution_count": 1,
   "metadata": {},
   "outputs": [],
   "source": [
    "%load_ext autoreload\n",
    "%autoreload 2\n",
    "from sora import sora"
   ]
  },
  {
   "cell_type": "code",
   "execution_count": 2,
   "metadata": {
    "scrolled": false
   },
   "outputs": [
    {
     "data": {
      "text/html": [
       "\n",
       "        <img src=\"data:image/jpeg;base64,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\"></img>\n",
       "    "
      ],
      "text/plain": [
       "<IPython.core.display.HTML object>"
      ]
     },
     "metadata": {},
     "output_type": "display_data"
    }
   ],
   "source": [
    "sora(\"./test_images/\", cell_width=32, cell_height=32, items_per_row=4)"
   ]
  },
  {
   "cell_type": "code",
   "execution_count": 3,
   "metadata": {},
   "outputs": [
    {
     "data": {
      "text/html": [
       "\n",
       "        <img src=\"data:image/jpeg;base64,/9j/4AAQSkZJRgABAQAAAQABAAD/2wBDAAgGBgcGBQgHBwcJCQgKDBQNDAsLDBkSEw8UHRofHh0aHBwgJC4nICIsIxwcKDcpLDAxNDQ0Hyc5PTgyPC4zNDL/2wBDAQkJCQwLDBgNDRgyIRwhMjIyMjIyMjIyMjIyMjIyMjIyMjIyMjIyMjIyMjIyMjIyMjIyMjIyMjIyMjIyMjIyMjL/wAARCAAgACADASIAAhEBAxEB/8QAHwAAAQUBAQEBAQEAAAAAAAAAAAECAwQFBgcICQoL/8QAtRAAAgEDAwIEAwUFBAQAAAF9AQIDAAQRBRIhMUEGE1FhByJxFDKBkaEII0KxwRVS0fAkM2JyggkKFhcYGRolJicoKSo0NTY3ODk6Q0RFRkdISUpTVFVWV1hZWmNkZWZnaGlqc3R1dnd4eXqDhIWGh4iJipKTlJWWl5iZmqKjpKWmp6ipqrKztLW2t7i5usLDxMXGx8jJytLT1NXW19jZ2uHi4+Tl5ufo6erx8vP09fb3+Pn6/8QAHwEAAwEBAQEBAQEBAQAAAAAAAAECAwQFBgcICQoL/8QAtREAAgECBAQDBAcFBAQAAQJ3AAECAxEEBSExBhJBUQdhcRMiMoEIFEKRobHBCSMzUvAVYnLRChYkNOEl8RcYGRomJygpKjU2Nzg5OkNERUZHSElKU1RVVldYWVpjZGVmZ2hpanN0dXZ3eHl6goOEhYaHiImKkpOUlZaXmJmaoqOkpaanqKmqsrO0tba3uLm6wsPExcbHyMnK0tPU1dbX2Nna4uPk5ebn6Onq8vP09fb3+Pn6/9oADAMBAAIRAxEAPwC/b65++YmJfLyOCcEDFXF8Rxh2U2zDHcmuVt4jNMVkkIDAA9gaszRJGrAudqnkBs7q6eYDai1+URYkiDOWPPoKlGrRXKtsiZcHB3kDmubttsEwlcO+QR5bKeaZdXKMJCFdVZtwQA8fT2pOQFy0TSHe0jhR5lnyok84naw5wcUsum3/AJ21vD1yUBwVDMc+4NZ1o0cdilrsAVPuurENWil/eqCV1C53FcbmcE+3as7l2S6E8elSSAbtDvFzk8l+CKqX2nwWi7p9HljU9C7sAauDW7yOJFNzIWUfMxPLVTvdcuZ7d4ZJWZHGGBIP9KTC3kf/2Q==\"></img>\n",
       "    "
      ],
      "text/plain": [
       "<IPython.core.display.HTML object>"
      ]
     },
     "metadata": {},
     "output_type": "display_data"
    }
   ],
   "source": [
    "sora(\"./test_images/1926.jpg\")"
   ]
  },
  {
   "cell_type": "code",
   "execution_count": null,
   "metadata": {},
   "outputs": [],
   "source": []
  }
 ],
 "metadata": {
  "kernelspec": {
   "display_name": "Python 3",
   "language": "python",
   "name": "python3"
  },
  "language_info": {
   "codemirror_mode": {
    "name": "ipython",
    "version": 3
   },
   "file_extension": ".py",
   "mimetype": "text/x-python",
   "name": "python",
   "nbconvert_exporter": "python",
   "pygments_lexer": "ipython3",
   "version": "3.6.7"
  }
 },
 "nbformat": 4,
 "nbformat_minor": 2
}
